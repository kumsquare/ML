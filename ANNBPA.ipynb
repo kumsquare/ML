{
 "cells": [
  {
   "cell_type": "code",
   "execution_count": 12,
   "id": "74fc6410-1494-4040-9b1b-b23632bb5ff7",
   "metadata": {},
   "outputs": [
    {
     "name": "stdout",
     "output_type": "stream",
     "text": [
      "Input: \n",
      "[[0.66666667 1.        ]\n",
      " [0.33333333 0.55555556]\n",
      " [1.         0.66666667]]\n",
      "Actual Output: \n",
      "[[0.92]\n",
      " [0.86]\n",
      " [0.89]]\n",
      "Predicted Output: \n",
      " [[0.8539656 ]\n",
      " [0.84091765]\n",
      " [0.85971641]]\n"
     ]
    }
   ],
   "source": [
    "import numpy as np \n",
    "x = np.array(([2, 9], [1, 5], [3, 6]), dtype=float) \n",
    "y = np.array(([92], [86], [89]), dtype=float) \n",
    "x = x/np.amax(x,axis=0) # maximum of X array longitudinally \n",
    "y = y/100 \n",
    "#Variable initialization \n",
    "epoch=7000 \n",
    "learn_rate=0.1 \n",
    "#Setting training iterations \n",
    "#Setting learning rate \n",
    "inputlayer_neurons = 2 #number of features in data set \n",
    "hiddenlayer_neurons = 3 #number of hidden layers neurons \n",
    "output_neurons = 1 #number of neurons at output layer \n",
    "#weight and bias initialization \n",
    "wh=np.random.uniform (size=(inputlayer_neurons,hiddenlayer_neurons)) \n",
    "bh=np.random.uniform(size=(1,hiddenlayer_neurons)) \n",
    "wout=np.random.uniform (size=(hiddenlayer_neurons,output_neurons)) \n",
    "bout=np.random.uniform (size=(1,output_neurons)) \n",
    "#Sigmoid Function \n",
    "def sigmoid (v): \n",
    "    return 1/(1+ np.exp(-v)) \n",
    "#Derivative of Sigmoid Function \n",
    "def derivatives_sigmoid(z): \n",
    "    return z * (1 - z) \n",
    "#draws a random range of numbers uniformly of dim x*y \n",
    "for i in range(epoch): \n",
    "#Forward Propogation \n",
    "#summation from input to hidden layer \n",
    "    hinp1=np.dot(x,wh) \n",
    "    hinp=hinp1 + bh \n",
    "#Activation at hidden layer \n",
    "    hlayer_act = sigmoid (hinp) \n",
    "#summation from hidden layer to output layer \n",
    "    outinp1=np.dot(hlayer_act,wout) \n",
    "    outinp=outinp1+ bout \n",
    "#Activation at Output layer \n",
    "    output = sigmoid (outinp) \n",
    "#Backpropagation \n",
    "EO = y-output #Error(difference in actual output and output got from network after forward pass) \n",
    "outgrad = derivatives_sigmoid (output) \n",
    "d_output = EO* outgrad # to get the answer as per the just above formula \n",
    "#how much hidden layer contributed to error \n",
    "EH = d_output.dot(wout.T) #T for transforming matrix so that d_output and wout matrix can be multiplied without any issues(summation part of just above formula) \n",
    "hiddengrad = derivatives_sigmoid (hlayer_act) \n",
    "d_hiddenlayer = EH*hiddengrad #answer for the just above formula \n",
    "wout +=learn_rate* hlayer_act.T.dot(d_output) \n",
    "wh += learn_rate*x.T.dot(d_hiddenlayer) \n",
    "print (\"Input: \\n\" + str(x)) \n",
    "print (\"Actual Output: \\n\" + str(y)) \n",
    "print (\"Predicted Output: \\n\",output) "
   ]
  },
  {
   "cell_type": "code",
   "execution_count": null,
   "id": "a8a2a1f1-7566-463e-989d-04908412a65a",
   "metadata": {},
   "outputs": [],
   "source": []
  }
 ],
 "metadata": {
  "kernelspec": {
   "display_name": "Python 3 (ipykernel)",
   "language": "python",
   "name": "python3"
  },
  "language_info": {
   "codemirror_mode": {
    "name": "ipython",
    "version": 3
   },
   "file_extension": ".py",
   "mimetype": "text/x-python",
   "name": "python",
   "nbconvert_exporter": "python",
   "pygments_lexer": "ipython3",
   "version": "3.11.7"
  }
 },
 "nbformat": 4,
 "nbformat_minor": 5
}
